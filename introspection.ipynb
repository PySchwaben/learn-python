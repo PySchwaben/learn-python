{
 "metadata": {
  "name": "",
  "signature": "sha256:266303be685b5bb8eb34a70786b5b7dce484e46b3a8e85e9d4eb1759a3aaa132"
 },
 "nbformat": 3,
 "nbformat_minor": 0,
 "worksheets": [
  {
   "cells": [
    {
     "cell_type": "code",
     "collapsed": false,
     "input": [
      "help('help')"
     ],
     "language": "python",
     "metadata": {},
     "outputs": []
    },
    {
     "cell_type": "code",
     "collapsed": false,
     "input": [
      "def spam(eggs):\n",
      "    \"\"\"spam the spam with spam\n",
      "    \n",
      "    :param eggs: tastes better with eggs\n",
      "    \n",
      "    \"\"\""
     ],
     "language": "python",
     "metadata": {},
     "outputs": []
    },
    {
     "cell_type": "code",
     "collapsed": false,
     "input": [
      "spam.__doc__"
     ],
     "language": "python",
     "metadata": {},
     "outputs": []
    },
    {
     "cell_type": "code",
     "collapsed": false,
     "input": [
      "help(spam)"
     ],
     "language": "python",
     "metadata": {},
     "outputs": []
    },
    {
     "cell_type": "code",
     "collapsed": false,
     "input": [
      "class Egg(object):\n",
      "    \"\"\"class desription\"\"\"\n",
      "    def __init__(self, weight=30):\n",
      "        self.weight = weight\n",
      "        \"\"\"weight of the egg in grams\"\"\"\n",
      "        \n",
      "    def fry(self):\n",
      "        \"\"\"function description\"\"\"\n",
      "        pass"
     ],
     "language": "python",
     "metadata": {},
     "outputs": []
    },
    {
     "cell_type": "code",
     "collapsed": false,
     "input": [
      "help(Egg)"
     ],
     "language": "python",
     "metadata": {},
     "outputs": []
    },
    {
     "cell_type": "code",
     "collapsed": false,
     "input": [
      "dir(Egg)"
     ],
     "language": "python",
     "metadata": {},
     "outputs": []
    },
    {
     "cell_type": "code",
     "collapsed": false,
     "input": [
      "egg = Egg()\n",
      "dir(egg)"
     ],
     "language": "python",
     "metadata": {},
     "outputs": []
    },
    {
     "cell_type": "code",
     "collapsed": false,
     "input": [
      "egg.weight"
     ],
     "language": "python",
     "metadata": {},
     "outputs": []
    }
   ],
   "metadata": {}
  }
 ]
}