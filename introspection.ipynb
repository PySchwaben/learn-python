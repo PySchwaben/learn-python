{
 "metadata": {
  "name": "",
  "signature": "sha256:ea0f22069be35a847dd82d5a4b25a1a133d9058660b419bf8939bc0519c5eb27"
 },
 "nbformat": 3,
 "nbformat_minor": 0,
 "worksheets": [
  {
   "cells": [
    {
     "cell_type": "code",
     "collapsed": false,
     "input": [
      "help(help)"
     ],
     "language": "python",
     "metadata": {},
     "outputs": [
      {
       "output_type": "stream",
       "stream": "stdout",
       "text": [
        "Help on _Helper in module site object:\n",
        "\n",
        "class _Helper(builtins.object)\n",
        " |  Define the built-in 'help'.\n",
        " |  This is a wrapper around pydoc.help (with a twist).\n",
        " |  \n",
        " |  Methods defined here:\n",
        " |  \n",
        " |  __call__(self, *args, **kwds)\n",
        " |  \n",
        " |  __repr__(self)\n",
        " |  \n",
        " |  ----------------------------------------------------------------------\n",
        " |  Data descriptors defined here:\n",
        " |  \n",
        " |  __dict__\n",
        " |      dictionary for instance variables (if defined)\n",
        " |  \n",
        " |  __weakref__\n",
        " |      list of weak references to the object (if defined)\n",
        "\n"
       ]
      }
     ],
     "prompt_number": 2
    }
   ],
   "metadata": {}
  }
 ]
}